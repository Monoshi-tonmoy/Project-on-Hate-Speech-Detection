{
  "nbformat": 4,
  "nbformat_minor": 0,
  "metadata": {
    "colab": {
      "provenance": []
    },
    "kernelspec": {
      "name": "python3",
      "display_name": "Python 3"
    },
    "language_info": {
      "name": "python"
    }
  },
  "cells": [
    {
      "cell_type": "code",
      "execution_count": null,
      "metadata": {
        "id": "Nsy4bWdZQ4az",
        "colab": {
          "base_uri": "https://localhost:8080/"
        },
        "outputId": "653f23c3-ca12-4b27-ee2a-d7bddee8a00e"
      },
      "outputs": [
        {
          "output_type": "stream",
          "name": "stdout",
          "text": [
            "Mounted at /content/gdrive\n"
          ]
        }
      ],
      "source": [
        "from google.colab import drive\n",
        "drive.mount(\"/content/gdrive\")"
      ]
    },
    {
      "cell_type": "code",
      "source": [
        "import pandas as pd\n",
        "\n",
        "dataframe1 = pd.read_csv('/content/gdrive/My Drive/Dataset/Russian_Ukraine_Mix.csv')"
      ],
      "metadata": {
        "id": "v9CaLoQsRgNS"
      },
      "execution_count": null,
      "outputs": []
    },
    {
      "cell_type": "code",
      "source": [
        "dataframe1=dataframe1[['text','abusive']]\n",
        "print(dataframe1)"
      ],
      "metadata": {
        "id": "97H7uS6zdnHe",
        "colab": {
          "base_uri": "https://localhost:8080/"
        },
        "outputId": "ac43a05f-e325-403a-903b-557dd1a48adb"
      },
      "execution_count": null,
      "outputs": [
        {
          "output_type": "stream",
          "name": "stdout",
          "text": [
            "                                                   text  abusive\n",
            "0     всем холодный душ из водомётов и не одного евр...     True\n",
            "1                                 я поляк я люблю тебе     False\n",
            "2                 автор хуй из рта вытащи беркут герои      True\n",
            "3     позор януковичу не замочил майданщиков продажн...     True\n",
            "4                          легче всего обвинять россию     False\n",
            "...                                                 ...      ...\n",
            "1995  вот из за таких гоблинов пропукинских и погиба...     True\n",
            "1996     беркут наведите порядок конце концов в стране     False\n",
            "1997        слава україні героям слава смерть москалям      True\n",
            "1998  под бла бла бла таких хакамад мы и потеряли сс...     True\n",
            "1999  на рахунок олігархів згідний але їх що на росі...    False\n",
            "\n",
            "[2000 rows x 2 columns]\n"
          ]
        }
      ]
    },
    {
      "cell_type": "code",
      "source": [
        "dataframe1['abusive']=dataframe1['abusive'].replace({0: 1, 1: 0})"
      ],
      "metadata": {
        "id": "b_z7IfWjKaqM"
      },
      "execution_count": null,
      "outputs": []
    },
    {
      "cell_type": "code",
      "source": [
        "print(dataframe1)"
      ],
      "metadata": {
        "colab": {
          "base_uri": "https://localhost:8080/"
        },
        "id": "deHc_YaFKrxX",
        "outputId": "ffdf373a-6265-4782-bce8-e1fa04dd220b"
      },
      "execution_count": null,
      "outputs": [
        {
          "output_type": "stream",
          "name": "stdout",
          "text": [
            "                                                   text  abusive\n",
            "0     всем холодный душ из водомётов и не одного евр...        1\n",
            "1                                 я поляк я люблю тебе         0\n",
            "2                 автор хуй из рта вытащи беркут герои         1\n",
            "3     позор януковичу не замочил майданщиков продажн...        1\n",
            "4                          легче всего обвинять россию         0\n",
            "...                                                 ...      ...\n",
            "1995  вот из за таких гоблинов пропукинских и погиба...        1\n",
            "1996     беркут наведите порядок конце концов в стране         0\n",
            "1997        слава україні героям слава смерть москалям         1\n",
            "1998  под бла бла бла таких хакамад мы и потеряли сс...        1\n",
            "1999  на рахунок олігархів згідний але їх що на росі...        0\n",
            "\n",
            "[2000 rows x 2 columns]\n"
          ]
        }
      ]
    },
    {
      "cell_type": "code",
      "source": [
        "counts = dataframe1['abusive'].value_counts()\n",
        "print(counts)"
      ],
      "metadata": {
        "colab": {
          "base_uri": "https://localhost:8080/"
        },
        "id": "ELKANqBJAtXv",
        "outputId": "ddc17ff6-2586-45fc-c713-7d89546437b6"
      },
      "execution_count": null,
      "outputs": [
        {
          "output_type": "stream",
          "name": "stdout",
          "text": [
            "0    1346\n",
            "1     654\n",
            "Name: abusive, dtype: int64\n"
          ]
        }
      ]
    },
    {
      "cell_type": "code",
      "source": [
        "dataframe_N=dataframe1[dataframe1['Hate Speech']==0]\n",
        "dataframe_N=dataframe_N[:654]\n",
        "\n",
        "print(dataframe_N)"
      ],
      "metadata": {
        "id": "z1_ytGN_fDZw",
        "colab": {
          "base_uri": "https://localhost:8080/"
        },
        "outputId": "b6783e16-b00e-404e-d6b7-610a02eb9b4d"
      },
      "execution_count": null,
      "outputs": [
        {
          "output_type": "stream",
          "name": "stdout",
          "text": [
            "                                                Comment  Hate Speech\n",
            "1                                 я поляк я люблю тебе             0\n",
            "4                          легче всего обвинять россию             0\n",
            "6                 эх с танком бы куда круче смотрелось             0\n",
            "7                           як так можна брат на брата             0\n",
            "8                 владимир владимирович кто бы говорил             0\n",
            "...                                                 ...          ...\n",
            "991                                           во черти             0\n",
            "995   будет черезвычайное положение прийдется уходит...            0\n",
            "996    юрий шемчук ти не правий ці люди стояли там т...            0\n",
            "998   какой же это берут одеты кто в чего да еще пов...            0\n",
            "1000                   сколько тут ботов из рашки жуть             0\n",
            "\n",
            "[654 rows x 2 columns]\n"
          ]
        }
      ]
    },
    {
      "cell_type": "code",
      "source": [
        "dataframe_P=dataframe1[dataframe1['Hate Speech']==1]\n",
        "dataframe_P=dataframe_P[:654]\n",
        "\n",
        "print(dataframe_P)"
      ],
      "metadata": {
        "id": "HMGAuOOAF8Pk",
        "colab": {
          "base_uri": "https://localhost:8080/"
        },
        "outputId": "ab293910-0f10-47b1-e49c-a2701f8bdc40"
      },
      "execution_count": null,
      "outputs": [
        {
          "output_type": "stream",
          "name": "stdout",
          "text": [
            "                                                Comment  Hate Speech\n",
            "0     всем холодный душ из водомётов и не одного евр...            1\n",
            "2                 автор хуй из рта вытащи беркут герои             1\n",
            "3     позор януковичу не замочил майданщиков продажн...            1\n",
            "5                    росия говно україна країна героїв             1\n",
            "9     сука она продажная сколько ей платят за этот б...            1\n",
            "...                                                 ...          ...\n",
            "1989  информаторы в единой федерации все гнилопяткин...            1\n",
            "1993     сами развели пидорятник а теперь все виноваты             1\n",
            "1995  вот из за таких гоблинов пропукинских и погиба...            1\n",
            "1997        слава україні героям слава смерть москалям             1\n",
            "1998  под бла бла бла таких хакамад мы и потеряли сс...            1\n",
            "\n",
            "[653 rows x 2 columns]\n"
          ]
        }
      ]
    },
    {
      "cell_type": "markdown",
      "source": [],
      "metadata": {
        "id": "dp9cXcqvgNS-"
      }
    },
    {
      "cell_type": "code",
      "source": [
        "dataframe1 = pd.concat([dataframe_N, dataframe_P], ignore_index=True)\n",
        "\n",
        "print(dataframe1)"
      ],
      "metadata": {
        "id": "Tn7Ham8SgASv",
        "colab": {
          "base_uri": "https://localhost:8080/"
        },
        "outputId": "9557aeb4-b083-4545-f41c-710a87881673"
      },
      "execution_count": null,
      "outputs": [
        {
          "output_type": "stream",
          "name": "stdout",
          "text": [
            "                                                Comment  Hate Speech\n",
            "0                                 я поляк я люблю тебе             0\n",
            "1                          легче всего обвинять россию             0\n",
            "2                 эх с танком бы куда круче смотрелось             0\n",
            "3                           як так можна брат на брата             0\n",
            "4                 владимир владимирович кто бы говорил             0\n",
            "...                                                 ...          ...\n",
            "1302  информаторы в единой федерации все гнилопяткин...            1\n",
            "1303     сами развели пидорятник а теперь все виноваты             1\n",
            "1304  вот из за таких гоблинов пропукинских и погиба...            1\n",
            "1305        слава україні героям слава смерть москалям             1\n",
            "1306  под бла бла бла таких хакамад мы и потеряли сс...            1\n",
            "\n",
            "[1307 rows x 2 columns]\n"
          ]
        }
      ]
    },
    {
      "cell_type": "code",
      "source": [
        "dataframe.loc[dataframe[\"Label\"] == \"P\", \"Label\"] = 1\n",
        "dataframe.loc[dataframe[\"Label\"] == \"N\", \"Label\"] = 0\n",
        "\n",
        "\n",
        "print(dataframe)"
      ],
      "metadata": {
        "id": "HNGcghmeIp9N"
      },
      "execution_count": null,
      "outputs": []
    },
    {
      "cell_type": "code",
      "source": [
        "dataframe1.rename(columns = {'text':'Comment','abusive':'Hate Speech'},inplace = True)"
      ],
      "metadata": {
        "id": "HKVffCCvMgH9"
      },
      "execution_count": null,
      "outputs": []
    },
    {
      "cell_type": "code",
      "source": [
        "!pip install GoogleTranslator\n",
        "!pip install -U deep_translator"
      ],
      "metadata": {
        "id": "EkuPG2LQSYJV",
        "colab": {
          "base_uri": "https://localhost:8080/"
        },
        "outputId": "5802c098-052e-4c51-8bdd-6453d64706d6"
      },
      "execution_count": null,
      "outputs": [
        {
          "output_type": "stream",
          "name": "stdout",
          "text": [
            "Looking in indexes: https://pypi.org/simple, https://us-python.pkg.dev/colab-wheels/public/simple/\n",
            "\u001b[31mERROR: Could not find a version that satisfies the requirement GoogleTranslator (from versions: none)\u001b[0m\u001b[31m\n",
            "\u001b[0m\u001b[31mERROR: No matching distribution found for GoogleTranslator\u001b[0m\u001b[31m\n",
            "\u001b[0mLooking in indexes: https://pypi.org/simple, https://us-python.pkg.dev/colab-wheels/public/simple/\n",
            "Collecting deep_translator\n",
            "  Downloading deep_translator-1.10.1-py3-none-any.whl (35 kB)\n",
            "Requirement already satisfied: requests<3.0.0,>=2.23.0 in /usr/local/lib/python3.10/dist-packages (from deep_translator) (2.27.1)\n",
            "Requirement already satisfied: beautifulsoup4<5.0.0,>=4.9.1 in /usr/local/lib/python3.10/dist-packages (from deep_translator) (4.11.2)\n",
            "Requirement already satisfied: soupsieve>1.2 in /usr/local/lib/python3.10/dist-packages (from beautifulsoup4<5.0.0,>=4.9.1->deep_translator) (2.4.1)\n",
            "Requirement already satisfied: certifi>=2017.4.17 in /usr/local/lib/python3.10/dist-packages (from requests<3.0.0,>=2.23.0->deep_translator) (2022.12.7)\n",
            "Requirement already satisfied: idna<4,>=2.5 in /usr/local/lib/python3.10/dist-packages (from requests<3.0.0,>=2.23.0->deep_translator) (3.4)\n",
            "Requirement already satisfied: urllib3<1.27,>=1.21.1 in /usr/local/lib/python3.10/dist-packages (from requests<3.0.0,>=2.23.0->deep_translator) (1.26.15)\n",
            "Requirement already satisfied: charset-normalizer~=2.0.0 in /usr/local/lib/python3.10/dist-packages (from requests<3.0.0,>=2.23.0->deep_translator) (2.0.12)\n",
            "Installing collected packages: deep_translator\n",
            "Successfully installed deep_translator-1.10.1\n"
          ]
        }
      ]
    },
    {
      "cell_type": "code",
      "source": [
        "result = dataframe.loc[dataframe['Comment'] == \"naN\"]\n",
        "\n",
        "print(result)"
      ],
      "metadata": {
        "id": "1PNVdSjrKjSo"
      },
      "execution_count": null,
      "outputs": []
    },
    {
      "cell_type": "code",
      "source": [
        "char_count = dataframe['Comment'].str.len()\n",
        "\n",
        "print(max(char_count))\n",
        "\n",
        "for i in range(0,char_count.size):\n",
        "  if(char_count[i]>=5000):\n",
        "    print(i)"
      ],
      "metadata": {
        "id": "uSlpGkdrQZKy"
      },
      "execution_count": null,
      "outputs": []
    },
    {
      "cell_type": "code",
      "source": [
        "dataframe1['Comment'] = dataframe1['Comment'].fillna('')"
      ],
      "metadata": {
        "id": "w00FQZwjScuW"
      },
      "execution_count": null,
      "outputs": []
    },
    {
      "cell_type": "code",
      "source": [
        "dataframe1 = dataframe1[dataframe1['Comment'].str.len()<=5000]"
      ],
      "metadata": {
        "id": "Bsd8jkWWP5om"
      },
      "execution_count": null,
      "outputs": []
    },
    {
      "cell_type": "code",
      "source": [
        "print(dataframe1)"
      ],
      "metadata": {
        "colab": {
          "base_uri": "https://localhost:8080/"
        },
        "id": "pE1NR7RoQFCn",
        "outputId": "74af95f3-b2bc-4a35-92ac-c36c145b7757"
      },
      "execution_count": null,
      "outputs": [
        {
          "output_type": "stream",
          "name": "stdout",
          "text": [
            "                                                Comment  Hate Speech\n",
            "0                                 я поляк я люблю тебе             0\n",
            "1                          легче всего обвинять россию             0\n",
            "2                 эх с танком бы куда круче смотрелось             0\n",
            "3                           як так можна брат на брата             0\n",
            "4                 владимир владимирович кто бы говорил             0\n",
            "...                                                 ...          ...\n",
            "1302  информаторы в единой федерации все гнилопяткин...            1\n",
            "1303     сами развели пидорятник а теперь все виноваты             1\n",
            "1304  вот из за таких гоблинов пропукинских и погиба...            1\n",
            "1305        слава україні героям слава смерть москалям             1\n",
            "1306  под бла бла бла таких хакамад мы и потеряли сс...            1\n",
            "\n",
            "[1307 rows x 2 columns]\n"
          ]
        }
      ]
    },
    {
      "cell_type": "code",
      "source": [
        "from deep_translator import GoogleTranslator\n",
        "\n",
        "def translate_text(text):\n",
        "    return GoogleTranslator(source='auto', target='en').translate(text)\n",
        "\n",
        "dataframe1['Translated_Comment'] = dataframe1['Comment'].apply(lambda x: translate_text(x))"
      ],
      "metadata": {
        "id": "S9UL7lW4SOV1"
      },
      "execution_count": null,
      "outputs": []
    },
    {
      "cell_type": "markdown",
      "source": [],
      "metadata": {
        "id": "lD9skrquXFjW"
      }
    },
    {
      "cell_type": "code",
      "source": [
        "dataframe1['Geography']='Russia_Ukaraine'\n",
        "dataframe1['Category']='None'"
      ],
      "metadata": {
        "id": "fD4Qll4qS2Q2"
      },
      "execution_count": null,
      "outputs": []
    },
    {
      "cell_type": "code",
      "source": [
        "dataframe1.pop('Unique ID')"
      ],
      "metadata": {
        "colab": {
          "base_uri": "https://localhost:8080/"
        },
        "id": "GbzDUUWqZjgg",
        "outputId": "b7d819be-8753-4366-f266-e0be697cdee2"
      },
      "execution_count": null,
      "outputs": [
        {
          "output_type": "execute_result",
          "data": {
            "text/plain": [
              "0          1\n",
              "1          2\n",
              "2          3\n",
              "3          4\n",
              "4          5\n",
              "        ... \n",
              "1648    1649\n",
              "1649    1650\n",
              "1650    1651\n",
              "1651    1652\n",
              "1652    1653\n",
              "Name: Unique ID, Length: 1653, dtype: int64"
            ]
          },
          "metadata": {},
          "execution_count": 18
        }
      ]
    },
    {
      "cell_type": "code",
      "source": [
        "dataframe.rename(columns = {'translated_Comment':'Translated_Comment','label':'Hate Speech','category':'Category'},inplace = True)"
      ],
      "metadata": {
        "id": "HtKhwbEeaMr9"
      },
      "execution_count": null,
      "outputs": []
    },
    {
      "cell_type": "code",
      "source": [
        "#dataframe1['Hate Speech'] = dataframe1['hate'].apply(lambda x: 0 if x==\"non-hostile\" else 1)"
      ],
      "metadata": {
        "id": "IS4FtkFxcApb"
      },
      "execution_count": null,
      "outputs": []
    },
    {
      "cell_type": "code",
      "source": [
        "dataframe1.pop('translated_Language')"
      ],
      "metadata": {
        "colab": {
          "base_uri": "https://localhost:8080/"
        },
        "id": "Y3Eg0LJeddY7",
        "outputId": "48d2e370-4e48-4c49-a224-b686f66a082a"
      },
      "execution_count": null,
      "outputs": [
        {
          "output_type": "execute_result",
          "data": {
            "text/plain": [
              "0       Who wants employment, then say no, they do not...\n",
              "1       Patna: Male and female constable shot suicide ...\n",
              "2       If any Congressman is seen on a high roof, on ...\n",
              "3       Underworld don Chhota Rajan's brother got tick...\n",
              "4       RT @_Pb_swain_: Who can explain to these punct...\n",
              "                              ...                        \n",
              "1648    Taking inspiration from Sonu Sood, the tribals...\n",
              "1649    RT @ShilpiSinghINC: UAPA has been imposed on U...\n",
              "1650                           @RahulGandhi Pappu bastard\n",
              "1651    Mother Teresa devoted her entire life to the s...\n",
              "1652    Fear of Corona in IPL: Doubts on Harbhajan pla...\n",
              "Name: translated_Language, Length: 1653, dtype: object"
            ]
          },
          "metadata": {},
          "execution_count": 27
        }
      ]
    },
    {
      "cell_type": "code",
      "source": [
        "dataframe1['Translated_Comment']=dataframe1['translated_Language']"
      ],
      "metadata": {
        "id": "kXoMH3l5dMmV"
      },
      "execution_count": null,
      "outputs": []
    },
    {
      "cell_type": "code",
      "source": [
        "dataframe1.rename(columns = {'Labels Set':'Category'}, inplace = True)"
      ],
      "metadata": {
        "id": "F6NdG60jetex"
      },
      "execution_count": null,
      "outputs": []
    },
    {
      "cell_type": "code",
      "source": [
        "print(dataframe1)"
      ],
      "metadata": {
        "colab": {
          "base_uri": "https://localhost:8080/"
        },
        "id": "OMpD3WBrfCfC",
        "outputId": "acf9f41d-3b33-4e6f-c99c-141bb0964a8b"
      },
      "execution_count": null,
      "outputs": [
        {
          "output_type": "stream",
          "name": "stdout",
          "text": [
            "                                                Comment  \\\n",
            "0                        যত্তসব পাপন শালার ফাজলামী!!!!!   \n",
            "1                     পাপন শালা রে রিমান্ডে নেওয়া দরকার   \n",
            "2     জিল্লুর রহমান স্যারের ছেলে এতো বড় জারজ হবে এটা...   \n",
            "3                   শালা লুচ্চা দেখতে পাঠার মত দেখা যায়   \n",
            "4      তুই তো শালা গাজা খাইছচ।তুর মার হেডায় খেলবে সাকিব   \n",
            "...                                                 ...   \n",
            "2995  এখানে বিচারকের আসনে বসিয়ে এক মাগিক ফোনে ব্লু ...   \n",
            "2996  আমার বালের জাজ 🙄 জাজ হওয়ার কোন যোগ্যতা নেই বুঝ...   \n",
            "2997     এই মাগীর নাম কি আপনারা কেঊ কি জানেন পিলিচ বলেন   \n",
            "2998  দুর খাংকি মাগি একনকার সময়ে কম বয়োসে চুদা দিলে ...   \n",
            "2999  এইটা একটা চুতিয়া শো এর অডিশন আর তে হয় একটা রোড...   \n",
            "\n",
            "                                     Translated_Comment       Category  \\\n",
            "0                    Yattasab papan shala Fazlami !!!!!         sports   \n",
            "1                      Papon Shala needs to be remanded         sports   \n",
            "2     Zillur Rahman sir's son would be such a big ba...         sports   \n",
            "3                        Shala Luccha looks like Pathah         sports   \n",
            "4     Tui to shala gaza khaichchach. Tur mar hedaya ...         sports   \n",
            "...                                                 ...            ...   \n",
            "2995  Sitting here in the judge's seat, watching the...  entertainment   \n",
            "2996  My child has no qualifications to be a judge. ...  entertainment   \n",
            "2997  \"Do you know the name of this Magi?\" said Pillich  entertainment   \n",
            "2998  Dur Khanki Magi Ekankar, it is fun to have sex...  entertainment   \n",
            "2999  This is an audition for a Chutiya show and it ...  entertainment   \n",
            "\n",
            "      Hate Speech   Geography  \n",
            "0               1  Bangladesh  \n",
            "1               1  Bangladesh  \n",
            "2               1  Bangladesh  \n",
            "3               1  Bangladesh  \n",
            "4               1  Bangladesh  \n",
            "...           ...         ...  \n",
            "2995            1  Bangladesh  \n",
            "2996            1  Bangladesh  \n",
            "2997            1  Bangladesh  \n",
            "2998            1  Bangladesh  \n",
            "2999            1  Bangladesh  \n",
            "\n",
            "[3000 rows x 5 columns]\n"
          ]
        }
      ]
    },
    {
      "cell_type": "code",
      "source": [
        "dataframe1=dataframe1[['Comment','Translated_Comment','Category','Hate Speech','Geography']]"
      ],
      "metadata": {
        "id": "ocXEebkldyNw"
      },
      "execution_count": null,
      "outputs": []
    },
    {
      "cell_type": "code",
      "source": [
        "filepath = '/content/gdrive/My Drive/Dataset/Converted_Russia_Ukaraine.csv'"
      ],
      "metadata": {
        "id": "8OOtUkb0XQ4y"
      },
      "execution_count": null,
      "outputs": []
    },
    {
      "cell_type": "code",
      "source": [
        "dataframe1.to_csv(filepath, index=False)"
      ],
      "metadata": {
        "id": "7ZdGMQEGX569"
      },
      "execution_count": null,
      "outputs": []
    },
    {
      "cell_type": "code",
      "source": [],
      "metadata": {
        "id": "hf8yzu14X-sV"
      },
      "execution_count": null,
      "outputs": []
    }
  ]
}